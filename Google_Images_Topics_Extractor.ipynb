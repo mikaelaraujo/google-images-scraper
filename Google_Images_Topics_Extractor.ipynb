{
  "nbformat": 4,
  "nbformat_minor": 0,
  "metadata": {
    "colab": {
      "provenance": [],
      "authorship_tag": "ABX9TyMy3UG90l+f0g3K5TxvB0WI",
      "include_colab_link": true
    },
    "kernelspec": {
      "name": "python3",
      "display_name": "Python 3"
    },
    "language_info": {
      "name": "python"
    }
  },
  "cells": [
    {
      "cell_type": "markdown",
      "metadata": {
        "id": "view-in-github",
        "colab_type": "text"
      },
      "source": [
        "<a href=\"https://colab.research.google.com/github/mikaelaraujo/google-images-scraper/blob/main/Google_Images_Topics_Extractor.ipynb\" target=\"_parent\"><img src=\"https://colab.research.google.com/assets/colab-badge.svg\" alt=\"Open In Colab\"/></a>"
      ]
    },
    {
      "cell_type": "markdown",
      "source": [
        "**Author:** [Mikael Araújo](https://www.linkedin.com/in/mikael-araujo/) <br>\n",
        "**Colaboration:** [Sara Moccand-Sayegh](https://www.linkedin.com/in/moccandsayeghsara/)\n",
        "\n",
        "**Version:** 1.0\n",
        "\n",
        "**GitHub:** https://github.com/mikaelaraujo/google-images-scraper/blob/main/mvp"
      ],
      "metadata": {
        "id": "ZAlwN2NmuGSg"
      }
    },
    {
      "cell_type": "markdown",
      "source": [
        "**What does this tool do?**\n",
        "\n",
        "It retrieves a list of terms related to a Google Image search.\n",
        "\n",
        "**How can I test it?**\n",
        "\n",
        "First, in the menu, go to File > Save a copy in my drive.\n",
        "\n",
        "1) Access the last code block; <br>\n",
        "2) Change the keyword between quotes located in: search_term = \"neymar\";<br>\n",
        "3) In the menu, go to Runtime > Run All and wait for processing;<br>\n",
        "4) The results will be displayed after the last code block.<br>"
      ],
      "metadata": {
        "id": "1B417pYZugsf"
      }
    },
    {
      "cell_type": "code",
      "execution_count": null,
      "metadata": {
        "colab": {
          "base_uri": "https://localhost:8080/"
        },
        "id": "n-s8yspFnptm",
        "outputId": "b26cb6a1-c212-435b-b53b-19c9695709f6"
      },
      "outputs": [
        {
          "output_type": "stream",
          "name": "stdout",
          "text": [
            "Requirement already satisfied: selenium in /usr/local/lib/python3.10/dist-packages (4.24.0)\n",
            "Requirement already satisfied: urllib3<3,>=1.26 in /usr/local/lib/python3.10/dist-packages (from urllib3[socks]<3,>=1.26->selenium) (2.0.7)\n",
            "Requirement already satisfied: trio~=0.17 in /usr/local/lib/python3.10/dist-packages (from selenium) (0.26.2)\n",
            "Requirement already satisfied: trio-websocket~=0.9 in /usr/local/lib/python3.10/dist-packages (from selenium) (0.11.1)\n",
            "Requirement already satisfied: certifi>=2021.10.8 in /usr/local/lib/python3.10/dist-packages (from selenium) (2024.8.30)\n",
            "Requirement already satisfied: typing_extensions~=4.9 in /usr/local/lib/python3.10/dist-packages (from selenium) (4.12.2)\n",
            "Requirement already satisfied: websocket-client~=1.8 in /usr/local/lib/python3.10/dist-packages (from selenium) (1.8.0)\n",
            "Requirement already satisfied: attrs>=23.2.0 in /usr/local/lib/python3.10/dist-packages (from trio~=0.17->selenium) (24.2.0)\n",
            "Requirement already satisfied: sortedcontainers in /usr/local/lib/python3.10/dist-packages (from trio~=0.17->selenium) (2.4.0)\n",
            "Requirement already satisfied: idna in /usr/local/lib/python3.10/dist-packages (from trio~=0.17->selenium) (3.8)\n",
            "Requirement already satisfied: outcome in /usr/local/lib/python3.10/dist-packages (from trio~=0.17->selenium) (1.3.0.post0)\n",
            "Requirement already satisfied: sniffio>=1.3.0 in /usr/local/lib/python3.10/dist-packages (from trio~=0.17->selenium) (1.3.1)\n",
            "Requirement already satisfied: exceptiongroup in /usr/local/lib/python3.10/dist-packages (from trio~=0.17->selenium) (1.2.2)\n",
            "Requirement already satisfied: wsproto>=0.14 in /usr/local/lib/python3.10/dist-packages (from trio-websocket~=0.9->selenium) (1.2.0)\n",
            "Requirement already satisfied: pysocks!=1.5.7,<2.0,>=1.5.6 in /usr/local/lib/python3.10/dist-packages (from urllib3[socks]<3,>=1.26->selenium) (1.7.1)\n",
            "Requirement already satisfied: h11<1,>=0.9.0 in /usr/local/lib/python3.10/dist-packages (from wsproto>=0.14->trio-websocket~=0.9->selenium) (0.14.0)\n",
            "Hit:1 https://cloud.r-project.org/bin/linux/ubuntu jammy-cran40/ InRelease\n",
            "Hit:2 https://developer.download.nvidia.com/compute/cuda/repos/ubuntu2204/x86_64  InRelease\n",
            "Hit:3 http://archive.ubuntu.com/ubuntu jammy InRelease\n",
            "Ign:4 https://r2u.stat.illinois.edu/ubuntu jammy InRelease\n",
            "Hit:5 http://archive.ubuntu.com/ubuntu jammy-updates InRelease\n",
            "Hit:6 http://security.ubuntu.com/ubuntu jammy-security InRelease\n",
            "Get:7 https://r2u.stat.illinois.edu/ubuntu jammy Release [5,713 B]\n",
            "Get:8 https://r2u.stat.illinois.edu/ubuntu jammy Release.gpg [793 B]\n",
            "Hit:9 http://archive.ubuntu.com/ubuntu jammy-backports InRelease\n",
            "Get:10 https://r2u.stat.illinois.edu/ubuntu jammy/main all Packages [8,298 kB]\n",
            "Get:11 https://r2u.stat.illinois.edu/ubuntu jammy/main amd64 Packages [2,571 kB]\n",
            "Hit:12 https://ppa.launchpadcontent.net/deadsnakes/ppa/ubuntu jammy InRelease\n",
            "Hit:13 https://ppa.launchpadcontent.net/graphics-drivers/ppa/ubuntu jammy InRelease\n",
            "Hit:14 https://ppa.launchpadcontent.net/ubuntugis/ppa/ubuntu jammy InRelease\n",
            "Fetched 10.9 MB in 2s (4,874 kB/s)\n",
            "Reading package lists... Done\n",
            "W: Skipping acquire of configured file 'main/source/Sources' as repository 'https://r2u.stat.illinois.edu/ubuntu jammy InRelease' does not seem to provide it (sources.list entry misspelt?)\n",
            "Reading package lists... Done\n",
            "Building dependency tree... Done\n",
            "Reading state information... Done\n",
            "chromium-chromedriver is already the newest version (1:85.0.4183.83-0ubuntu2.22.04.1).\n",
            "0 upgraded, 0 newly installed, 0 to remove and 50 not upgraded.\n",
            "cp: '/usr/lib/chromium-browser/chromedriver' and '/usr/bin/chromedriver' are the same file\n"
          ]
        }
      ],
      "source": [
        "# Installing the dependencies\n",
        "!pip install selenium\n",
        "!apt-get update\n",
        "!apt install chromium-chromedriver\n",
        "!cp /usr/lib/chromium-browser/chromedriver /usr/bin\n",
        "\n",
        "from selenium import webdriver\n",
        "from selenium.webdriver.common.by import By\n",
        "from selenium.webdriver.support.ui import WebDriverWait\n",
        "from selenium.webdriver.support import expected_conditions as EC"
      ]
    },
    {
      "cell_type": "code",
      "source": [
        "def get_first_related_term(search_term):\n",
        "\n",
        "    # WebDriver configuration for Colab (Chrome headless)\n",
        "    chrome_options = webdriver.ChromeOptions()\n",
        "    chrome_options.add_argument('--headless')\n",
        "    chrome_options.add_argument('--no-sandbox')\n",
        "    chrome_options.add_argument('--disable-dev-shm-usage')\n",
        "\n",
        "    driver = webdriver.Chrome(options=chrome_options)\n",
        "\n",
        "    # GOOGLE IMAGES URL IN PORTUGUESE BR\n",
        "    # driver.get(\"https://www.google.com/imghp?hl=pt-BR\")\n",
        "    # Replace the URL below with the Google Images URL in your location adding your country code after \"=\"\n",
        "    # for localized results\n",
        "    driver.get(\"https://www.google.com/imghp\")\n",
        "\n",
        "    # Locate the search bar and enter your search term\n",
        "    search_box = driver.find_element(By.NAME, \"q\")\n",
        "    search_box.send_keys(search_term)\n",
        "    search_box.submit()\n",
        "\n",
        "    # Wait for the first related term to load (adjust the time if necessary)\n",
        "    try:\n",
        "        first_related_term_element = WebDriverWait(driver, 20).until(\n",
        "            #EC.presence_of_element_located((By.XPATH, '//*[@id=\"hdtb-sc\"]/div/div[2]/div[1]/div[1]/a/div/span[2]'))\n",
        "            EC.presence_of_element_located((By.XPATH, '//*[@id=\"hdtb-sc\"]/div/div[2]/div[1]'))\n",
        "        )\n",
        "\n",
        "        # Extract the text of the first related term\n",
        "        first_related_term = first_related_term_element.text\n",
        "\n",
        "        return first_related_term\n",
        "    except:\n",
        "        print(\"Not found.\")\n",
        "        return None\n",
        "    finally:\n",
        "        driver.quit()"
      ],
      "metadata": {
        "id": "1JljGTqrowN7"
      },
      "execution_count": null,
      "outputs": []
    },
    {
      "cell_type": "code",
      "source": [
        "# To perform a search, enter a keyword in quotes on the line below.\n",
        "# Replace \"neymar\" in the line below.\n",
        "search_term = \"neymar\"\n",
        "first_related_term = get_first_related_term(search_term)\n",
        "\n",
        "if first_related_term:\n",
        "    print(f\"The list of terms for '{search_term}' are:\\n {first_related_term}\")"
      ],
      "metadata": {
        "colab": {
          "base_uri": "https://localhost:8080/"
        },
        "id": "lzMGMQjto3Yn",
        "outputId": "6a37ced0-4a97-45ae-ef16-d9173dd764c7"
      },
      "execution_count": null,
      "outputs": [
        {
          "output_type": "stream",
          "name": "stdout",
          "text": [
            "The list of terms for 'neymar' are:\n",
            " Wallpaper\n",
            "Haircut\n",
            "Tattoo\n",
            "Drawing\n",
            "Paris\n",
            "Curly hair\n",
            "Transfer\n",
            "Iphone\n",
            "Jersey\n",
            "Yellow\n",
            "Portrait\n",
            "Sketch\n",
            "Animated\n",
            "Pencil\n",
            "Profile\n",
            "Wedding\n",
            "Back\n",
            "Carolina dantas\n",
            "Dress\n",
            "Hand\n",
            "Trophy\n",
            "Age\n",
            "Cut\n",
            "Fc barcelona\n",
            "Al hilal saudi\n",
            "Brazil football player\n",
            "Football team\n",
            "Soccer player\n",
            "Hilal fc\n",
            "Barca\n",
            "Neyma\n"
          ]
        }
      ]
    }
  ]
}